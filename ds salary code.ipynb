{
 "cells": [
  {
   "cell_type": "code",
   "execution_count": 1,
   "metadata": {},
   "outputs": [],
   "source": [
    "import pandas as pd\n",
    "import seaborn as sns\n",
    "import matplotlib.pyplot as plt\n",
    "%matplotlib inline"
   ]
  },
  {
   "cell_type": "code",
   "execution_count": 2,
   "metadata": {},
   "outputs": [],
   "source": [
    "df = pd.read_csv(\"data_cleaned_2021.csv\")"
   ]
  },
  {
   "cell_type": "code",
   "execution_count": 3,
   "metadata": {
    "scrolled": true
   },
   "outputs": [
    {
     "data": {
      "text/html": [
       "<div>\n",
       "<style scoped>\n",
       "    .dataframe tbody tr th:only-of-type {\n",
       "        vertical-align: middle;\n",
       "    }\n",
       "\n",
       "    .dataframe tbody tr th {\n",
       "        vertical-align: top;\n",
       "    }\n",
       "\n",
       "    .dataframe thead th {\n",
       "        text-align: right;\n",
       "    }\n",
       "</style>\n",
       "<table border=\"1\" class=\"dataframe\">\n",
       "  <thead>\n",
       "    <tr style=\"text-align: right;\">\n",
       "      <th></th>\n",
       "      <th>index</th>\n",
       "      <th>Job Title</th>\n",
       "      <th>Salary Estimate</th>\n",
       "      <th>Job Description</th>\n",
       "      <th>Rating</th>\n",
       "      <th>Company Name</th>\n",
       "      <th>Location</th>\n",
       "      <th>Headquarters</th>\n",
       "      <th>Size</th>\n",
       "      <th>Founded</th>\n",
       "      <th>...</th>\n",
       "      <th>tensor</th>\n",
       "      <th>hadoop</th>\n",
       "      <th>tableau</th>\n",
       "      <th>bi</th>\n",
       "      <th>flink</th>\n",
       "      <th>mongo</th>\n",
       "      <th>google_an</th>\n",
       "      <th>job_title_sim</th>\n",
       "      <th>seniority_by_title</th>\n",
       "      <th>Degree</th>\n",
       "    </tr>\n",
       "  </thead>\n",
       "  <tbody>\n",
       "    <tr>\n",
       "      <th>0</th>\n",
       "      <td>0</td>\n",
       "      <td>Data Scientist</td>\n",
       "      <td>$53K-$91K (Glassdoor est.)</td>\n",
       "      <td>Data Scientist\\nLocation: Albuquerque, NM\\nEdu...</td>\n",
       "      <td>3.8</td>\n",
       "      <td>Tecolote Research\\n3.8</td>\n",
       "      <td>Albuquerque, NM</td>\n",
       "      <td>Goleta, CA</td>\n",
       "      <td>501 - 1000</td>\n",
       "      <td>1973</td>\n",
       "      <td>...</td>\n",
       "      <td>0</td>\n",
       "      <td>0</td>\n",
       "      <td>1</td>\n",
       "      <td>1</td>\n",
       "      <td>0</td>\n",
       "      <td>0</td>\n",
       "      <td>0</td>\n",
       "      <td>data scientist</td>\n",
       "      <td>na</td>\n",
       "      <td>M</td>\n",
       "    </tr>\n",
       "    <tr>\n",
       "      <th>1</th>\n",
       "      <td>1</td>\n",
       "      <td>Healthcare Data Scientist</td>\n",
       "      <td>$63K-$112K (Glassdoor est.)</td>\n",
       "      <td>What You Will Do:\\n\\nI. General Summary\\n\\nThe...</td>\n",
       "      <td>3.4</td>\n",
       "      <td>University of Maryland Medical System\\n3.4</td>\n",
       "      <td>Linthicum, MD</td>\n",
       "      <td>Baltimore, MD</td>\n",
       "      <td>10000+</td>\n",
       "      <td>1984</td>\n",
       "      <td>...</td>\n",
       "      <td>0</td>\n",
       "      <td>0</td>\n",
       "      <td>0</td>\n",
       "      <td>0</td>\n",
       "      <td>0</td>\n",
       "      <td>0</td>\n",
       "      <td>0</td>\n",
       "      <td>data scientist</td>\n",
       "      <td>na</td>\n",
       "      <td>M</td>\n",
       "    </tr>\n",
       "    <tr>\n",
       "      <th>2</th>\n",
       "      <td>2</td>\n",
       "      <td>Data Scientist</td>\n",
       "      <td>$80K-$90K (Glassdoor est.)</td>\n",
       "      <td>KnowBe4, Inc. is a high growth information sec...</td>\n",
       "      <td>4.8</td>\n",
       "      <td>KnowBe4\\n4.8</td>\n",
       "      <td>Clearwater, FL</td>\n",
       "      <td>Clearwater, FL</td>\n",
       "      <td>501 - 1000</td>\n",
       "      <td>2010</td>\n",
       "      <td>...</td>\n",
       "      <td>0</td>\n",
       "      <td>0</td>\n",
       "      <td>0</td>\n",
       "      <td>0</td>\n",
       "      <td>0</td>\n",
       "      <td>0</td>\n",
       "      <td>0</td>\n",
       "      <td>data scientist</td>\n",
       "      <td>na</td>\n",
       "      <td>M</td>\n",
       "    </tr>\n",
       "    <tr>\n",
       "      <th>3</th>\n",
       "      <td>3</td>\n",
       "      <td>Data Scientist</td>\n",
       "      <td>$56K-$97K (Glassdoor est.)</td>\n",
       "      <td>*Organization and Job ID**\\nJob ID: 310709\\n\\n...</td>\n",
       "      <td>3.8</td>\n",
       "      <td>PNNL\\n3.8</td>\n",
       "      <td>Richland, WA</td>\n",
       "      <td>Richland, WA</td>\n",
       "      <td>1001 - 5000</td>\n",
       "      <td>1965</td>\n",
       "      <td>...</td>\n",
       "      <td>0</td>\n",
       "      <td>0</td>\n",
       "      <td>0</td>\n",
       "      <td>0</td>\n",
       "      <td>0</td>\n",
       "      <td>0</td>\n",
       "      <td>0</td>\n",
       "      <td>data scientist</td>\n",
       "      <td>na</td>\n",
       "      <td>na</td>\n",
       "    </tr>\n",
       "    <tr>\n",
       "      <th>4</th>\n",
       "      <td>4</td>\n",
       "      <td>Data Scientist</td>\n",
       "      <td>$86K-$143K (Glassdoor est.)</td>\n",
       "      <td>Data Scientist\\nAffinity Solutions / Marketing...</td>\n",
       "      <td>2.9</td>\n",
       "      <td>Affinity Solutions\\n2.9</td>\n",
       "      <td>New York, NY</td>\n",
       "      <td>New York, NY</td>\n",
       "      <td>51 - 200</td>\n",
       "      <td>1998</td>\n",
       "      <td>...</td>\n",
       "      <td>0</td>\n",
       "      <td>0</td>\n",
       "      <td>0</td>\n",
       "      <td>0</td>\n",
       "      <td>0</td>\n",
       "      <td>0</td>\n",
       "      <td>0</td>\n",
       "      <td>data scientist</td>\n",
       "      <td>na</td>\n",
       "      <td>na</td>\n",
       "    </tr>\n",
       "  </tbody>\n",
       "</table>\n",
       "<p>5 rows × 42 columns</p>\n",
       "</div>"
      ],
      "text/plain": [
       "   index                  Job Title              Salary Estimate  \\\n",
       "0      0             Data Scientist   $53K-$91K (Glassdoor est.)   \n",
       "1      1  Healthcare Data Scientist  $63K-$112K (Glassdoor est.)   \n",
       "2      2             Data Scientist   $80K-$90K (Glassdoor est.)   \n",
       "3      3             Data Scientist   $56K-$97K (Glassdoor est.)   \n",
       "4      4             Data Scientist  $86K-$143K (Glassdoor est.)   \n",
       "\n",
       "                                     Job Description  Rating  \\\n",
       "0  Data Scientist\\nLocation: Albuquerque, NM\\nEdu...     3.8   \n",
       "1  What You Will Do:\\n\\nI. General Summary\\n\\nThe...     3.4   \n",
       "2  KnowBe4, Inc. is a high growth information sec...     4.8   \n",
       "3  *Organization and Job ID**\\nJob ID: 310709\\n\\n...     3.8   \n",
       "4  Data Scientist\\nAffinity Solutions / Marketing...     2.9   \n",
       "\n",
       "                                 Company Name         Location  \\\n",
       "0                      Tecolote Research\\n3.8  Albuquerque, NM   \n",
       "1  University of Maryland Medical System\\n3.4    Linthicum, MD   \n",
       "2                                KnowBe4\\n4.8   Clearwater, FL   \n",
       "3                                   PNNL\\n3.8     Richland, WA   \n",
       "4                     Affinity Solutions\\n2.9     New York, NY   \n",
       "\n",
       "     Headquarters          Size  Founded  ... tensor hadoop tableau bi flink  \\\n",
       "0      Goleta, CA   501 - 1000      1973  ...      0      0       1  1     0   \n",
       "1   Baltimore, MD       10000+      1984  ...      0      0       0  0     0   \n",
       "2  Clearwater, FL   501 - 1000      2010  ...      0      0       0  0     0   \n",
       "3    Richland, WA  1001 - 5000      1965  ...      0      0       0  0     0   \n",
       "4    New York, NY     51 - 200      1998  ...      0      0       0  0     0   \n",
       "\n",
       "   mongo  google_an   job_title_sim  seniority_by_title  Degree  \n",
       "0      0          0  data scientist                  na       M  \n",
       "1      0          0  data scientist                  na       M  \n",
       "2      0          0  data scientist                  na       M  \n",
       "3      0          0  data scientist                  na      na  \n",
       "4      0          0  data scientist                  na      na  \n",
       "\n",
       "[5 rows x 42 columns]"
      ]
     },
     "execution_count": 3,
     "metadata": {},
     "output_type": "execute_result"
    }
   ],
   "source": [
    "df.head()"
   ]
  },
  {
   "cell_type": "code",
   "execution_count": 4,
   "metadata": {},
   "outputs": [
    {
     "data": {
      "text/html": [
       "<div>\n",
       "<style scoped>\n",
       "    .dataframe tbody tr th:only-of-type {\n",
       "        vertical-align: middle;\n",
       "    }\n",
       "\n",
       "    .dataframe tbody tr th {\n",
       "        vertical-align: top;\n",
       "    }\n",
       "\n",
       "    .dataframe thead th {\n",
       "        text-align: right;\n",
       "    }\n",
       "</style>\n",
       "<table border=\"1\" class=\"dataframe\">\n",
       "  <thead>\n",
       "    <tr style=\"text-align: right;\">\n",
       "      <th></th>\n",
       "      <th>index</th>\n",
       "      <th>Rating</th>\n",
       "      <th>Founded</th>\n",
       "      <th>Hourly</th>\n",
       "      <th>Employer provided</th>\n",
       "      <th>Lower Salary</th>\n",
       "      <th>Upper Salary</th>\n",
       "      <th>Avg Salary(K)</th>\n",
       "      <th>Age</th>\n",
       "      <th>Python</th>\n",
       "      <th>...</th>\n",
       "      <th>keras</th>\n",
       "      <th>pytorch</th>\n",
       "      <th>scikit</th>\n",
       "      <th>tensor</th>\n",
       "      <th>hadoop</th>\n",
       "      <th>tableau</th>\n",
       "      <th>bi</th>\n",
       "      <th>flink</th>\n",
       "      <th>mongo</th>\n",
       "      <th>google_an</th>\n",
       "    </tr>\n",
       "  </thead>\n",
       "  <tbody>\n",
       "    <tr>\n",
       "      <th>count</th>\n",
       "      <td>742.000000</td>\n",
       "      <td>742.000000</td>\n",
       "      <td>742.000000</td>\n",
       "      <td>742.000000</td>\n",
       "      <td>742.000000</td>\n",
       "      <td>742.000000</td>\n",
       "      <td>742.000000</td>\n",
       "      <td>742.000000</td>\n",
       "      <td>742.000000</td>\n",
       "      <td>742.000000</td>\n",
       "      <td>...</td>\n",
       "      <td>742.000000</td>\n",
       "      <td>742.000000</td>\n",
       "      <td>742.000000</td>\n",
       "      <td>742.000000</td>\n",
       "      <td>742.000000</td>\n",
       "      <td>742.000000</td>\n",
       "      <td>742.000000</td>\n",
       "      <td>742.000000</td>\n",
       "      <td>742.000000</td>\n",
       "      <td>742.000000</td>\n",
       "    </tr>\n",
       "    <tr>\n",
       "      <th>mean</th>\n",
       "      <td>469.129380</td>\n",
       "      <td>3.618868</td>\n",
       "      <td>1837.154987</td>\n",
       "      <td>0.032345</td>\n",
       "      <td>0.022911</td>\n",
       "      <td>74.754717</td>\n",
       "      <td>128.214286</td>\n",
       "      <td>101.484501</td>\n",
       "      <td>47.524259</td>\n",
       "      <td>0.528302</td>\n",
       "      <td>...</td>\n",
       "      <td>0.039084</td>\n",
       "      <td>0.052561</td>\n",
       "      <td>0.072776</td>\n",
       "      <td>0.097035</td>\n",
       "      <td>0.167116</td>\n",
       "      <td>0.199461</td>\n",
       "      <td>0.075472</td>\n",
       "      <td>0.013477</td>\n",
       "      <td>0.049865</td>\n",
       "      <td>0.018868</td>\n",
       "    </tr>\n",
       "    <tr>\n",
       "      <th>std</th>\n",
       "      <td>279.793117</td>\n",
       "      <td>0.801210</td>\n",
       "      <td>497.183763</td>\n",
       "      <td>0.177034</td>\n",
       "      <td>0.149721</td>\n",
       "      <td>30.945892</td>\n",
       "      <td>45.128650</td>\n",
       "      <td>37.482449</td>\n",
       "      <td>53.839080</td>\n",
       "      <td>0.499535</td>\n",
       "      <td>...</td>\n",
       "      <td>0.193925</td>\n",
       "      <td>0.223305</td>\n",
       "      <td>0.259944</td>\n",
       "      <td>0.296205</td>\n",
       "      <td>0.373331</td>\n",
       "      <td>0.399865</td>\n",
       "      <td>0.264329</td>\n",
       "      <td>0.115384</td>\n",
       "      <td>0.217813</td>\n",
       "      <td>0.136150</td>\n",
       "    </tr>\n",
       "    <tr>\n",
       "      <th>min</th>\n",
       "      <td>0.000000</td>\n",
       "      <td>-1.000000</td>\n",
       "      <td>-1.000000</td>\n",
       "      <td>0.000000</td>\n",
       "      <td>0.000000</td>\n",
       "      <td>15.000000</td>\n",
       "      <td>16.000000</td>\n",
       "      <td>15.500000</td>\n",
       "      <td>-1.000000</td>\n",
       "      <td>0.000000</td>\n",
       "      <td>...</td>\n",
       "      <td>0.000000</td>\n",
       "      <td>0.000000</td>\n",
       "      <td>0.000000</td>\n",
       "      <td>0.000000</td>\n",
       "      <td>0.000000</td>\n",
       "      <td>0.000000</td>\n",
       "      <td>0.000000</td>\n",
       "      <td>0.000000</td>\n",
       "      <td>0.000000</td>\n",
       "      <td>0.000000</td>\n",
       "    </tr>\n",
       "    <tr>\n",
       "      <th>25%</th>\n",
       "      <td>221.500000</td>\n",
       "      <td>3.300000</td>\n",
       "      <td>1939.000000</td>\n",
       "      <td>0.000000</td>\n",
       "      <td>0.000000</td>\n",
       "      <td>52.000000</td>\n",
       "      <td>96.000000</td>\n",
       "      <td>73.500000</td>\n",
       "      <td>12.000000</td>\n",
       "      <td>0.000000</td>\n",
       "      <td>...</td>\n",
       "      <td>0.000000</td>\n",
       "      <td>0.000000</td>\n",
       "      <td>0.000000</td>\n",
       "      <td>0.000000</td>\n",
       "      <td>0.000000</td>\n",
       "      <td>0.000000</td>\n",
       "      <td>0.000000</td>\n",
       "      <td>0.000000</td>\n",
       "      <td>0.000000</td>\n",
       "      <td>0.000000</td>\n",
       "    </tr>\n",
       "    <tr>\n",
       "      <th>50%</th>\n",
       "      <td>472.500000</td>\n",
       "      <td>3.700000</td>\n",
       "      <td>1988.000000</td>\n",
       "      <td>0.000000</td>\n",
       "      <td>0.000000</td>\n",
       "      <td>69.500000</td>\n",
       "      <td>124.000000</td>\n",
       "      <td>97.500000</td>\n",
       "      <td>25.000000</td>\n",
       "      <td>1.000000</td>\n",
       "      <td>...</td>\n",
       "      <td>0.000000</td>\n",
       "      <td>0.000000</td>\n",
       "      <td>0.000000</td>\n",
       "      <td>0.000000</td>\n",
       "      <td>0.000000</td>\n",
       "      <td>0.000000</td>\n",
       "      <td>0.000000</td>\n",
       "      <td>0.000000</td>\n",
       "      <td>0.000000</td>\n",
       "      <td>0.000000</td>\n",
       "    </tr>\n",
       "    <tr>\n",
       "      <th>75%</th>\n",
       "      <td>707.750000</td>\n",
       "      <td>4.000000</td>\n",
       "      <td>2007.000000</td>\n",
       "      <td>0.000000</td>\n",
       "      <td>0.000000</td>\n",
       "      <td>91.000000</td>\n",
       "      <td>155.000000</td>\n",
       "      <td>122.500000</td>\n",
       "      <td>60.000000</td>\n",
       "      <td>1.000000</td>\n",
       "      <td>...</td>\n",
       "      <td>0.000000</td>\n",
       "      <td>0.000000</td>\n",
       "      <td>0.000000</td>\n",
       "      <td>0.000000</td>\n",
       "      <td>0.000000</td>\n",
       "      <td>0.000000</td>\n",
       "      <td>0.000000</td>\n",
       "      <td>0.000000</td>\n",
       "      <td>0.000000</td>\n",
       "      <td>0.000000</td>\n",
       "    </tr>\n",
       "    <tr>\n",
       "      <th>max</th>\n",
       "      <td>955.000000</td>\n",
       "      <td>5.000000</td>\n",
       "      <td>2019.000000</td>\n",
       "      <td>1.000000</td>\n",
       "      <td>1.000000</td>\n",
       "      <td>202.000000</td>\n",
       "      <td>306.000000</td>\n",
       "      <td>254.000000</td>\n",
       "      <td>277.000000</td>\n",
       "      <td>1.000000</td>\n",
       "      <td>...</td>\n",
       "      <td>1.000000</td>\n",
       "      <td>1.000000</td>\n",
       "      <td>1.000000</td>\n",
       "      <td>1.000000</td>\n",
       "      <td>1.000000</td>\n",
       "      <td>1.000000</td>\n",
       "      <td>1.000000</td>\n",
       "      <td>1.000000</td>\n",
       "      <td>1.000000</td>\n",
       "      <td>1.000000</td>\n",
       "    </tr>\n",
       "  </tbody>\n",
       "</table>\n",
       "<p>8 rows × 25 columns</p>\n",
       "</div>"
      ],
      "text/plain": [
       "            index      Rating      Founded      Hourly  Employer provided  \\\n",
       "count  742.000000  742.000000   742.000000  742.000000         742.000000   \n",
       "mean   469.129380    3.618868  1837.154987    0.032345           0.022911   \n",
       "std    279.793117    0.801210   497.183763    0.177034           0.149721   \n",
       "min      0.000000   -1.000000    -1.000000    0.000000           0.000000   \n",
       "25%    221.500000    3.300000  1939.000000    0.000000           0.000000   \n",
       "50%    472.500000    3.700000  1988.000000    0.000000           0.000000   \n",
       "75%    707.750000    4.000000  2007.000000    0.000000           0.000000   \n",
       "max    955.000000    5.000000  2019.000000    1.000000           1.000000   \n",
       "\n",
       "       Lower Salary  Upper Salary  Avg Salary(K)         Age      Python  ...  \\\n",
       "count    742.000000    742.000000     742.000000  742.000000  742.000000  ...   \n",
       "mean      74.754717    128.214286     101.484501   47.524259    0.528302  ...   \n",
       "std       30.945892     45.128650      37.482449   53.839080    0.499535  ...   \n",
       "min       15.000000     16.000000      15.500000   -1.000000    0.000000  ...   \n",
       "25%       52.000000     96.000000      73.500000   12.000000    0.000000  ...   \n",
       "50%       69.500000    124.000000      97.500000   25.000000    1.000000  ...   \n",
       "75%       91.000000    155.000000     122.500000   60.000000    1.000000  ...   \n",
       "max      202.000000    306.000000     254.000000  277.000000    1.000000  ...   \n",
       "\n",
       "            keras     pytorch      scikit      tensor      hadoop     tableau  \\\n",
       "count  742.000000  742.000000  742.000000  742.000000  742.000000  742.000000   \n",
       "mean     0.039084    0.052561    0.072776    0.097035    0.167116    0.199461   \n",
       "std      0.193925    0.223305    0.259944    0.296205    0.373331    0.399865   \n",
       "min      0.000000    0.000000    0.000000    0.000000    0.000000    0.000000   \n",
       "25%      0.000000    0.000000    0.000000    0.000000    0.000000    0.000000   \n",
       "50%      0.000000    0.000000    0.000000    0.000000    0.000000    0.000000   \n",
       "75%      0.000000    0.000000    0.000000    0.000000    0.000000    0.000000   \n",
       "max      1.000000    1.000000    1.000000    1.000000    1.000000    1.000000   \n",
       "\n",
       "               bi       flink       mongo   google_an  \n",
       "count  742.000000  742.000000  742.000000  742.000000  \n",
       "mean     0.075472    0.013477    0.049865    0.018868  \n",
       "std      0.264329    0.115384    0.217813    0.136150  \n",
       "min      0.000000    0.000000    0.000000    0.000000  \n",
       "25%      0.000000    0.000000    0.000000    0.000000  \n",
       "50%      0.000000    0.000000    0.000000    0.000000  \n",
       "75%      0.000000    0.000000    0.000000    0.000000  \n",
       "max      1.000000    1.000000    1.000000    1.000000  \n",
       "\n",
       "[8 rows x 25 columns]"
      ]
     },
     "execution_count": 4,
     "metadata": {},
     "output_type": "execute_result"
    }
   ],
   "source": [
    "df.describe()"
   ]
  },
  {
   "cell_type": "markdown",
   "metadata": {},
   "source": [
    "# Part 1: Data Cleaning and EDA"
   ]
  },
  {
   "cell_type": "code",
   "execution_count": 5,
   "metadata": {},
   "outputs": [
    {
     "data": {
      "text/plain": [
       "0"
      ]
     },
     "execution_count": 5,
     "metadata": {},
     "output_type": "execute_result"
    }
   ],
   "source": [
    "df.isnull().sum().sum()"
   ]
  },
  {
   "cell_type": "code",
   "execution_count": 6,
   "metadata": {},
   "outputs": [],
   "source": [
    "#NaNs are either -1 or na"
   ]
  },
  {
   "cell_type": "code",
   "execution_count": 7,
   "metadata": {},
   "outputs": [],
   "source": [
    "# Drop unhelpful variables\n",
    "df = df.drop(['Location', 'Headquarters', 'Job Description','company_txt','index', 'Company Name','Job Title',\n",
    "             'Founded','Salary Estimate',], axis = 1)\n",
    "# Job description, Location and Salary estimate are represented in other variables"
   ]
  },
  {
   "cell_type": "code",
   "execution_count": 8,
   "metadata": {},
   "outputs": [],
   "source": [
    "# Check NaNs"
   ]
  },
  {
   "cell_type": "code",
   "execution_count": 9,
   "metadata": {},
   "outputs": [
    {
     "data": {
      "text/plain": [
       "Rating                  0\n",
       "Size                    0\n",
       "Type of ownership       0\n",
       "Industry                0\n",
       "Sector                  0\n",
       "Revenue                 0\n",
       "Competitors             0\n",
       "Hourly                  0\n",
       "Employer provided       0\n",
       "Lower Salary            0\n",
       "Upper Salary            0\n",
       "Avg Salary(K)           0\n",
       "Job Location            0\n",
       "Age                     0\n",
       "Python                  0\n",
       "spark                   0\n",
       "aws                     0\n",
       "excel                   0\n",
       "sql                     0\n",
       "sas                     0\n",
       "keras                   0\n",
       "pytorch                 0\n",
       "scikit                  0\n",
       "tensor                  0\n",
       "hadoop                  0\n",
       "tableau                 0\n",
       "bi                      0\n",
       "flink                   0\n",
       "mongo                   0\n",
       "google_an               0\n",
       "job_title_sim          10\n",
       "seniority_by_title    519\n",
       "Degree                383\n",
       "dtype: int64"
      ]
     },
     "execution_count": 9,
     "metadata": {},
     "output_type": "execute_result"
    }
   ],
   "source": [
    "(df == 'na').sum()"
   ]
  },
  {
   "cell_type": "code",
   "execution_count": 10,
   "metadata": {},
   "outputs": [
    {
     "data": {
      "text/plain": [
       "Rating                11\n",
       "Size                   0\n",
       "Type of ownership      0\n",
       "Industry               0\n",
       "Sector                 0\n",
       "Revenue                0\n",
       "Competitors            0\n",
       "Hourly                 0\n",
       "Employer provided      0\n",
       "Lower Salary           0\n",
       "Upper Salary           0\n",
       "Avg Salary(K)          0\n",
       "Job Location           0\n",
       "Age                   50\n",
       "Python                 0\n",
       "spark                  0\n",
       "aws                    0\n",
       "excel                  0\n",
       "sql                    0\n",
       "sas                    0\n",
       "keras                  0\n",
       "pytorch                0\n",
       "scikit                 0\n",
       "tensor                 0\n",
       "hadoop                 0\n",
       "tableau                0\n",
       "bi                     0\n",
       "flink                  0\n",
       "mongo                  0\n",
       "google_an              0\n",
       "job_title_sim          0\n",
       "seniority_by_title     0\n",
       "Degree                 0\n",
       "dtype: int64"
      ]
     },
     "execution_count": 10,
     "metadata": {},
     "output_type": "execute_result"
    }
   ],
   "source": [
    "(df == -1).sum()"
   ]
  },
  {
   "cell_type": "code",
   "execution_count": 11,
   "metadata": {},
   "outputs": [
    {
     "data": {
      "text/plain": [
       "Rating                  0\n",
       "Size                    0\n",
       "Type of ownership       0\n",
       "Industry               10\n",
       "Sector                 10\n",
       "Revenue                 0\n",
       "Competitors           460\n",
       "Hourly                  0\n",
       "Employer provided       0\n",
       "Lower Salary            0\n",
       "Upper Salary            0\n",
       "Avg Salary(K)           0\n",
       "Job Location            0\n",
       "Age                     0\n",
       "Python                  0\n",
       "spark                   0\n",
       "aws                     0\n",
       "excel                   0\n",
       "sql                     0\n",
       "sas                     0\n",
       "keras                   0\n",
       "pytorch                 0\n",
       "scikit                  0\n",
       "tensor                  0\n",
       "hadoop                  0\n",
       "tableau                 0\n",
       "bi                      0\n",
       "flink                   0\n",
       "mongo                   0\n",
       "google_an               0\n",
       "job_title_sim           0\n",
       "seniority_by_title      0\n",
       "Degree                  0\n",
       "dtype: int64"
      ]
     },
     "execution_count": 11,
     "metadata": {},
     "output_type": "execute_result"
    }
   ],
   "source": [
    "(df == '-1').sum()"
   ]
  },
  {
   "cell_type": "code",
   "execution_count": 12,
   "metadata": {},
   "outputs": [
    {
     "data": {
      "text/plain": [
       "array(['M', 'na', 'P'], dtype=object)"
      ]
     },
     "execution_count": 12,
     "metadata": {},
     "output_type": "execute_result"
    }
   ],
   "source": [
    "df['Degree'].unique()"
   ]
  },
  {
   "cell_type": "code",
   "execution_count": 13,
   "metadata": {},
   "outputs": [
    {
     "data": {
      "text/plain": [
       "array(['na', 'sr', 'jr'], dtype=object)"
      ]
     },
     "execution_count": 13,
     "metadata": {},
     "output_type": "execute_result"
    }
   ],
   "source": [
    "df['seniority_by_title'].unique()"
   ]
  },
  {
   "cell_type": "code",
   "execution_count": 14,
   "metadata": {},
   "outputs": [
    {
     "data": {
      "text/plain": [
       "array(['data scientist', 'other scientist', 'analyst', 'data engineer',\n",
       "       'data analitics', 'na', 'data modeler',\n",
       "       'Data scientist project manager', 'machine learning engineer',\n",
       "       'director'], dtype=object)"
      ]
     },
     "execution_count": 14,
     "metadata": {},
     "output_type": "execute_result"
    }
   ],
   "source": [
    "df['job_title_sim'].unique()"
   ]
  },
  {
   "cell_type": "code",
   "execution_count": 15,
   "metadata": {},
   "outputs": [
    {
     "data": {
      "text/plain": [
       "Unknown / Non-Applicable            204\n",
       "$10+ billion (USD)                  124\n",
       "$100 to $500 million (USD)           91\n",
       "$1 to $2 billion (USD)               60\n",
       "$500 million to $1 billion (USD)     57\n",
       "$50 to $100 million (USD)            46\n",
       "$25 to $50 million (USD)             40\n",
       "$2 to $5 billion (USD)               39\n",
       "$10 to $25 million (USD)             32\n",
       "$5 to $10 billion (USD)              19\n",
       "$5 to $10 million (USD)              18\n",
       "$1 to $5 million (USD)                8\n",
       "Less than $1 million (USD)            4\n",
       "Name: Revenue, dtype: int64"
      ]
     },
     "execution_count": 15,
     "metadata": {},
     "output_type": "execute_result"
    }
   ],
   "source": [
    "df['Revenue'].value_counts()"
   ]
  },
  {
   "cell_type": "code",
   "execution_count": 16,
   "metadata": {},
   "outputs": [],
   "source": [
    "#Remove degree , revenue and competitors due to large number of na's\n",
    "df = df.drop('Degree', axis = 1)\n",
    "df = df.drop('Competitors', axis =1)\n",
    "df = df.drop('Revenue', axis = 1)"
   ]
  },
  {
   "cell_type": "markdown",
   "metadata": {},
   "source": [
    "### Imputation"
   ]
  },
  {
   "cell_type": "code",
   "execution_count": 17,
   "metadata": {},
   "outputs": [],
   "source": [
    "#Impute mean for age and rating\n",
    "#Impute mode for job_title_sim, industry and sector"
   ]
  },
  {
   "cell_type": "code",
   "execution_count": 18,
   "metadata": {},
   "outputs": [
    {
     "data": {
      "text/plain": [
       "47.52425876010782"
      ]
     },
     "execution_count": 18,
     "metadata": {},
     "output_type": "execute_result"
    }
   ],
   "source": [
    "df['Age'].mean()"
   ]
  },
  {
   "cell_type": "code",
   "execution_count": 19,
   "metadata": {},
   "outputs": [],
   "source": [
    "#Imputing means\n",
    "df['Age'] = df['Age'].replace(-1, df['Age'].mean())\n",
    "df['Rating'] = df['Rating'].replace(-1, df['Rating'].mean())"
   ]
  },
  {
   "cell_type": "code",
   "execution_count": 20,
   "metadata": {},
   "outputs": [
    {
     "data": {
      "text/plain": [
       "<AxesSubplot:title={'center':'Ages Frequency'}, ylabel='Age'>"
      ]
     },
     "execution_count": 20,
     "metadata": {},
     "output_type": "execute_result"
    },
    {
     "data": {
      "image/png": "[encoded data removed]",
      "text/plain": [
       "<Figure size 720x432 with 1 Axes>"
      ]
     },
     "metadata": {
      "needs_background": "light"
     },
     "output_type": "display_data"
    }
   ],
   "source": [
    "# Age distribution\n",
    "plt.figure(figsize=(10,6))\n",
    "plt.title(\"Ages Frequency\")\n",
    "sns.violinplot(y=df['Age'])"
   ]
  },
  {
   "cell_type": "code",
   "execution_count": 21,
   "metadata": {},
   "outputs": [
    {
     "data": {
      "text/plain": [
       "<AxesSubplot:ylabel='Rating'>"
      ]
     },
     "execution_count": 21,
     "metadata": {},
     "output_type": "execute_result"
    },
    {
     "data": {
      "image/png": "[encoded data removed]",
      "text/plain": [
       "<Figure size 720x432 with 1 Axes>"
      ]
     },
     "metadata": {
      "needs_background": "light"
     },
     "output_type": "display_data"
    }
   ],
   "source": [
    "# Rating distribution\n",
    "plt.figure(figsize=(10,6))\n",
    "sns.boxplot(y=df['Rating'], color='teal')"
   ]
  },
  {
   "cell_type": "code",
   "execution_count": 22,
   "metadata": {},
   "outputs": [],
   "source": [
    "#Imputing mode for categoricals"
   ]
  },
  {
   "cell_type": "code",
   "execution_count": 23,
   "metadata": {},
   "outputs": [
    {
     "data": {
      "text/plain": [
       "data scientist                    313\n",
       "other scientist                   143\n",
       "data engineer                     119\n",
       "analyst                           101\n",
       "machine learning engineer          22\n",
       "Data scientist project manager     16\n",
       "na                                 10\n",
       "data analitics                      8\n",
       "data modeler                        5\n",
       "director                            5\n",
       "Name: job_title_sim, dtype: int64"
      ]
     },
     "execution_count": 23,
     "metadata": {},
     "output_type": "execute_result"
    }
   ],
   "source": [
    "df['job_title_sim'].value_counts()"
   ]
  },
  {
   "cell_type": "code",
   "execution_count": 24,
   "metadata": {},
   "outputs": [
    {
     "data": {
      "text/plain": [
       "Information Technology                180\n",
       "Biotech & Pharmaceuticals             112\n",
       "Business Services                      97\n",
       "Insurance                              69\n",
       "Health Care                            49\n",
       "Finance                                42\n",
       "Manufacturing                          34\n",
       "Aerospace & Defense                    25\n",
       "Education                              23\n",
       "Retail                                 15\n",
       "Oil, Gas, Energy & Utilities           14\n",
       "Government                             11\n",
       "-1                                     10\n",
       "Non-Profit                              9\n",
       "Transportation & Logistics              8\n",
       "Real Estate                             8\n",
       "Travel & Tourism                        8\n",
       "Telecommunications                      6\n",
       "Media                                   6\n",
       "Arts, Entertainment & Recreation        4\n",
       "Consumer Services                       4\n",
       "Mining & Metals                         3\n",
       "Construction, Repair & Maintenance      3\n",
       "Agriculture & Forestry                  1\n",
       "Accounting & Legal                      1\n",
       "Name: Sector, dtype: int64"
      ]
     },
     "execution_count": 24,
     "metadata": {},
     "output_type": "execute_result"
    }
   ],
   "source": [
    "df['Sector'].value_counts()"
   ]
  },
  {
   "cell_type": "code",
   "execution_count": 25,
   "metadata": {},
   "outputs": [
    {
     "data": {
      "text/plain": [
       "Biotech & Pharmaceuticals                   112\n",
       "Insurance Carriers                           63\n",
       "Computer Hardware & Software                 59\n",
       "IT Services                                  50\n",
       "Health Care Services & Hospitals             49\n",
       "Enterprise Software & Network Solutions      42\n",
       "Internet                                     29\n",
       "Consulting                                   29\n",
       "Aerospace & Defense                          25\n",
       "Advertising & Marketing                      25\n",
       "Consumer Products Manufacturing              20\n",
       "Research & Development                       19\n",
       "Colleges & Universities                      16\n",
       "Energy                                       14\n",
       "Banks & Credit Unions                        12\n",
       "Federal Agencies                             11\n",
       "-1                                           10\n",
       "Staffing & Outsourcing                       10\n",
       "Travel Agencies                               8\n",
       "Lending                                       8\n",
       "Food & Beverage Manufacturing                 8\n",
       "Financial Analytics & Research                8\n",
       "Real Estate                                   8\n",
       "Security Services                             7\n",
       "Insurance Agencies & Brokerages               6\n",
       "Religious Organizations                       6\n",
       "Department, Clothing, & Shoe Stores           6\n",
       "Investment Banking & Asset Management         5\n",
       "Architectural & Engineering Services          4\n",
       "K-12 Education                                4\n",
       "Gas Stations                                  4\n",
       "Gambling                                      4\n",
       "Industrial Manufacturing                      4\n",
       "Telecommunications Services                   4\n",
       "Logistics & Supply Chain                      4\n",
       "Financial Transaction Processing              4\n",
       "Wholesale                                     3\n",
       "Stock Exchanges                               3\n",
       "Social Assistance                             3\n",
       "Construction                                  3\n",
       "Transportation Management                     3\n",
       "Video Games                                   3\n",
       "Education Training Services                   3\n",
       "Consumer Product Rental                       3\n",
       "Telecommunications Manufacturing              2\n",
       "Sporting Goods Stores                         2\n",
       "TV Broadcast & Cable Networks                 2\n",
       "Brokerage Services                            2\n",
       "Metals Brokers                                2\n",
       "Accounting                                    1\n",
       "Health Care Products Manufacturing            1\n",
       "Health, Beauty, & Fitness                     1\n",
       "Farm Support Services                         1\n",
       "Auctions & Galleries                          1\n",
       "Trucking                                      1\n",
       "Mining                                        1\n",
       "Other Retail Stores                           1\n",
       "Motion Picture Production & Distribution      1\n",
       "Transportation Equipment Manufacturing        1\n",
       "Beauty & Personal Accessories Stores          1\n",
       "Name: Industry, dtype: int64"
      ]
     },
     "execution_count": 25,
     "metadata": {},
     "output_type": "execute_result"
    }
   ],
   "source": [
    "df['Industry'].value_counts()"
   ]
  },
  {
   "cell_type": "code",
   "execution_count": 26,
   "metadata": {},
   "outputs": [],
   "source": [
    "df['job_title_sim'] = df['job_title_sim'].replace('na', 'data scientist')\n",
    "df['Sector'] = df['Sector'].replace('-1', 'Information Technology')\n",
    "df['Industry'] = df['Industry'].replace('-1', 'Biotech & Pharmaceuticals')"
   ]
  },
  {
   "cell_type": "code",
   "execution_count": 27,
   "metadata": {},
   "outputs": [],
   "source": [
    "job_title = df['job_title_sim'].value_counts()\n",
    "sector = df['Sector'].value_counts()\n",
    "industry = df['Industry'].value_counts()"
   ]
  },
  {
   "cell_type": "code",
   "execution_count": 28,
   "metadata": {},
   "outputs": [
    {
     "data": {
      "image/png": "[encoded data removed]",
      "text/plain": [
       "<Figure size 720x432 with 1 Axes>"
      ]
     },
     "metadata": {
      "needs_background": "light"
     },
     "output_type": "display_data"
    }
   ],
   "source": [
    "fig = plt.figure(figsize=(10,6))\n",
    "plt.title(\"Job Title Frequency\")\n",
    "sns.barplot(x=job_title.index, y=job_title.values, palette='husl')\n",
    "fig.autofmt_xdate()"
   ]
  },
  {
   "cell_type": "code",
   "execution_count": 29,
   "metadata": {},
   "outputs": [
    {
     "data": {
      "image/png": "[encoded data removed]",
      "text/plain": [
       "<Figure size 864x432 with 1 Axes>"
      ]
     },
     "metadata": {
      "needs_background": "light"
     },
     "output_type": "display_data"
    }
   ],
   "source": [
    "fig = plt.figure(figsize=(12,6))\n",
    "plt.title(\"Sector Frequency\")\n",
    "sns.barplot(x=sector.index, y=sector.values)\n",
    "fig.autofmt_xdate()"
   ]
  },
  {
   "cell_type": "code",
   "execution_count": 30,
   "metadata": {},
   "outputs": [],
   "source": [
    "# Check if any NaNs are left"
   ]
  },
  {
   "cell_type": "code",
   "execution_count": 31,
   "metadata": {},
   "outputs": [
    {
     "data": {
      "text/plain": [
       "Rating                  0\n",
       "Size                    0\n",
       "Type of ownership       0\n",
       "Industry                0\n",
       "Sector                  0\n",
       "Hourly                  0\n",
       "Employer provided       0\n",
       "Lower Salary            0\n",
       "Upper Salary            0\n",
       "Avg Salary(K)           0\n",
       "Job Location            0\n",
       "Age                     0\n",
       "Python                  0\n",
       "spark                   0\n",
       "aws                     0\n",
       "excel                   0\n",
       "sql                     0\n",
       "sas                     0\n",
       "keras                   0\n",
       "pytorch                 0\n",
       "scikit                  0\n",
       "tensor                  0\n",
       "hadoop                  0\n",
       "tableau                 0\n",
       "bi                      0\n",
       "flink                   0\n",
       "mongo                   0\n",
       "google_an               0\n",
       "job_title_sim           0\n",
       "seniority_by_title    519\n",
       "dtype: int64"
      ]
     },
     "execution_count": 31,
     "metadata": {},
     "output_type": "execute_result"
    }
   ],
   "source": [
    "(df == 'na').sum()\n",
    "#We'll deal with seniority_by_title in the feature engineering section"
   ]
  },
  {
   "cell_type": "code",
   "execution_count": 32,
   "metadata": {},
   "outputs": [
    {
     "data": {
      "text/plain": [
       "0"
      ]
     },
     "execution_count": 32,
     "metadata": {},
     "output_type": "execute_result"
    }
   ],
   "source": [
    "(df == -1).sum().sum()"
   ]
  },
  {
   "cell_type": "code",
   "execution_count": 33,
   "metadata": {},
   "outputs": [
    {
     "data": {
      "text/plain": [
       "0"
      ]
     },
     "execution_count": 33,
     "metadata": {},
     "output_type": "execute_result"
    }
   ],
   "source": [
    "(df == '-1').sum().sum()"
   ]
  },
  {
   "cell_type": "markdown",
   "metadata": {},
   "source": [
    "### Drop insignificant technical skills"
   ]
  },
  {
   "cell_type": "code",
   "execution_count": 34,
   "metadata": {},
   "outputs": [],
   "source": [
    "#Correlation\n",
    "techcorr = df[['Avg Salary(K)','Python','spark', 'aws', 'excel', 'sql', 'sas', 'keras', 'pytorch', 'scikit', 'tensor', 'hadoop', 'tableau', 'bi', 'flink', 'mongo', 'google_an']].corr()"
   ]
  },
  {
   "cell_type": "code",
   "execution_count": 35,
   "metadata": {},
   "outputs": [
    {
     "data": {
      "text/plain": [
       "<AxesSubplot:>"
      ]
     },
     "execution_count": 35,
     "metadata": {},
     "output_type": "execute_result"
    },
    {
     "data": {
      "image/png": "[encoded data removed]",
      "text/plain": [
       "<Figure size 1296x720 with 2 Axes>"
      ]
     },
     "metadata": {
      "needs_background": "light"
     },
     "output_type": "display_data"
    }
   ],
   "source": [
    "# Visualize correlation with heatmap\n",
    "plt.figure(figsize=(18,10))\n",
    "sns.heatmap(data=techcorr, cmap='coolwarm')"
   ]
  },
  {
   "cell_type": "code",
   "execution_count": 36,
   "metadata": {},
   "outputs": [
    {
     "data": {
      "text/plain": [
       "Avg Salary(K)    1.000000\n",
       "Python           0.315552\n",
       "spark            0.170678\n",
       "aws              0.172660\n",
       "excel           -0.072323\n",
       "sql              0.002008\n",
       "sas              0.101938\n",
       "keras            0.115658\n",
       "pytorch          0.044759\n",
       "scikit           0.178237\n",
       "tensor           0.160098\n",
       "hadoop           0.110562\n",
       "tableau         -0.074753\n",
       "bi              -0.044491\n",
       "flink            0.085859\n",
       "mongo            0.070925\n",
       "google_an       -0.123306\n",
       "Name: Avg Salary(K), dtype: float64"
      ]
     },
     "execution_count": 36,
     "metadata": {},
     "output_type": "execute_result"
    }
   ],
   "source": [
    "techcorr['Avg Salary(K)']"
   ]
  },
  {
   "cell_type": "code",
   "execution_count": 37,
   "metadata": {},
   "outputs": [],
   "source": [
    "# Evaluate statistical significance of those variables in a multiple linear regression\n",
    "import statsmodels.formula.api as smf"
   ]
  },
  {
   "cell_type": "code",
   "execution_count": 38,
   "metadata": {},
   "outputs": [],
   "source": [
    "lm1 = smf.ols(formula='Q(\"Avg Salary(K)\") ~ Python + spark + aws + excel + sql + sas + keras + pytorch + scikit + tensor + hadoop + tableau + bi + flink + mongo + google_an', data=df).fit()"
   ]
  },
  {
   "cell_type": "code",
   "execution_count": 39,
   "metadata": {},
   "outputs": [
    {
     "data": {
      "text/html": [
       "<table class=\"simpletable\">\n",
       "<caption>OLS Regression Results</caption>\n",
       "<tr>\n",
       "  <th>Dep. Variable:</th>    <td>Q(\"Avg Salary(K)\")</td> <th>  R-squared:         </th> <td>   0.185</td>\n",
       "</tr>\n",
       "<tr>\n",
       "  <th>Model:</th>                    <td>OLS</td>        <th>  Adj. R-squared:    </th> <td>   0.167</td>\n",
       "</tr>\n",
       "<tr>\n",
       "  <th>Method:</th>              <td>Least Squares</td>   <th>  F-statistic:       </th> <td>   10.29</td>\n",
       "</tr>\n",
       "<tr>\n",
       "  <th>Date:</th>              <td>Wed, 06 Apr 2022</td>  <th>  Prob (F-statistic):</th> <td>8.91e-24</td>\n",
       "</tr>\n",
       "<tr>\n",
       "  <th>Time:</th>                  <td>12:41:36</td>      <th>  Log-Likelihood:    </th> <td> -3665.4</td>\n",
       "</tr>\n",
       "<tr>\n",
       "  <th>No. Observations:</th>       <td>   742</td>       <th>  AIC:               </th> <td>   7365.</td>\n",
       "</tr>\n",
       "<tr>\n",
       "  <th>Df Residuals:</th>           <td>   725</td>       <th>  BIC:               </th> <td>   7443.</td>\n",
       "</tr>\n",
       "<tr>\n",
       "  <th>Df Model:</th>               <td>    16</td>       <th>                     </th>     <td> </td>   \n",
       "</tr>\n",
       "<tr>\n",
       "  <th>Covariance Type:</th>       <td>nonrobust</td>     <th>                     </th>     <td> </td>   \n",
       "</tr>\n",
       "</table>\n",
       "<table class=\"simpletable\">\n",
       "<tr>\n",
       "      <td></td>         <th>coef</th>     <th>std err</th>      <th>t</th>      <th>P>|t|</th>  <th>[0.025</th>    <th>0.975]</th>  \n",
       "</tr>\n",
       "<tr>\n",
       "  <th>Intercept</th> <td>   92.1005</td> <td>    2.445</td> <td>   37.674</td> <td> 0.000</td> <td>   87.301</td> <td>   96.900</td>\n",
       "</tr>\n",
       "<tr>\n",
       "  <th>Python</th>    <td>   22.9221</td> <td>    2.946</td> <td>    7.781</td> <td> 0.000</td> <td>   17.138</td> <td>   28.706</td>\n",
       "</tr>\n",
       "<tr>\n",
       "  <th>spark</th>     <td>   -1.6920</td> <td>    4.080</td> <td>   -0.415</td> <td> 0.679</td> <td>   -9.703</td> <td>    6.319</td>\n",
       "</tr>\n",
       "<tr>\n",
       "  <th>aws</th>       <td>   10.0329</td> <td>    3.263</td> <td>    3.075</td> <td> 0.002</td> <td>    3.626</td> <td>   16.440</td>\n",
       "</tr>\n",
       "<tr>\n",
       "  <th>excel</th>     <td>   -2.5458</td> <td>    2.579</td> <td>   -0.987</td> <td> 0.324</td> <td>   -7.609</td> <td>    2.518</td>\n",
       "</tr>\n",
       "<tr>\n",
       "  <th>sql</th>       <td>  -10.3709</td> <td>    3.072</td> <td>   -3.376</td> <td> 0.001</td> <td>  -16.402</td> <td>   -4.339</td>\n",
       "</tr>\n",
       "<tr>\n",
       "  <th>sas</th>       <td>   18.3125</td> <td>    4.680</td> <td>    3.913</td> <td> 0.000</td> <td>    9.124</td> <td>   27.501</td>\n",
       "</tr>\n",
       "<tr>\n",
       "  <th>keras</th>     <td>   -3.4863</td> <td>    8.356</td> <td>   -0.417</td> <td> 0.677</td> <td>  -19.892</td> <td>   12.919</td>\n",
       "</tr>\n",
       "<tr>\n",
       "  <th>pytorch</th>   <td>  -18.7216</td> <td>    7.586</td> <td>   -2.468</td> <td> 0.014</td> <td>  -33.614</td> <td>   -3.829</td>\n",
       "</tr>\n",
       "<tr>\n",
       "  <th>scikit</th>    <td>   12.2974</td> <td>    6.233</td> <td>    1.973</td> <td> 0.049</td> <td>    0.061</td> <td>   24.534</td>\n",
       "</tr>\n",
       "<tr>\n",
       "  <th>tensor</th>    <td>   15.2036</td> <td>    6.687</td> <td>    2.274</td> <td> 0.023</td> <td>    2.075</td> <td>   28.332</td>\n",
       "</tr>\n",
       "<tr>\n",
       "  <th>hadoop</th>    <td>    4.5706</td> <td>    4.210</td> <td>    1.086</td> <td> 0.278</td> <td>   -3.695</td> <td>   12.837</td>\n",
       "</tr>\n",
       "<tr>\n",
       "  <th>tableau</th>   <td>   -6.2376</td> <td>    3.823</td> <td>   -1.632</td> <td> 0.103</td> <td>  -13.742</td> <td>    1.267</td>\n",
       "</tr>\n",
       "<tr>\n",
       "  <th>bi</th>        <td>   -4.9640</td> <td>    5.463</td> <td>   -0.909</td> <td> 0.364</td> <td>  -15.690</td> <td>    5.762</td>\n",
       "</tr>\n",
       "<tr>\n",
       "  <th>flink</th>     <td>    4.3340</td> <td>   11.487</td> <td>    0.377</td> <td> 0.706</td> <td>  -18.218</td> <td>   26.886</td>\n",
       "</tr>\n",
       "<tr>\n",
       "  <th>mongo</th>     <td>    7.3972</td> <td>    6.187</td> <td>    1.196</td> <td> 0.232</td> <td>   -4.750</td> <td>   19.545</td>\n",
       "</tr>\n",
       "<tr>\n",
       "  <th>google_an</th> <td>  -28.2730</td> <td>    9.387</td> <td>   -3.012</td> <td> 0.003</td> <td>  -46.702</td> <td>   -9.844</td>\n",
       "</tr>\n",
       "</table>\n",
       "<table class=\"simpletable\">\n",
       "<tr>\n",
       "  <th>Omnibus:</th>       <td>73.332</td> <th>  Durbin-Watson:     </th> <td>   2.034</td>\n",
       "</tr>\n",
       "<tr>\n",
       "  <th>Prob(Omnibus):</th> <td> 0.000</td> <th>  Jarque-Bera (JB):  </th> <td>  95.131</td>\n",
       "</tr>\n",
       "<tr>\n",
       "  <th>Skew:</th>          <td> 0.792</td> <th>  Prob(JB):          </th> <td>2.20e-21</td>\n",
       "</tr>\n",
       "<tr>\n",
       "  <th>Kurtosis:</th>      <td> 3.753</td> <th>  Cond. No.          </th> <td>    14.2</td>\n",
       "</tr>\n",
       "</table><br/><br/>Notes:<br/>[1] Standard Errors assume that the covariance matrix of the errors is correctly specified."
      ],
      "text/plain": [
       "<class 'statsmodels.iolib.summary.Summary'>\n",
       "\"\"\"\n",
       "                            OLS Regression Results                            \n",
       "==============================================================================\n",
       "Dep. Variable:     Q(\"Avg Salary(K)\")   R-squared:                       0.185\n",
       "Model:                            OLS   Adj. R-squared:                  0.167\n",
       "Method:                 Least Squares   F-statistic:                     10.29\n",
       "Date:                Wed, 06 Apr 2022   Prob (F-statistic):           8.91e-24\n",
       "Time:                        12:41:36   Log-Likelihood:                -3665.4\n",
       "No. Observations:                 742   AIC:                             7365.\n",
       "Df Residuals:                     725   BIC:                             7443.\n",
       "Df Model:                          16                                         \n",
       "Covariance Type:            nonrobust                                         \n",
       "==============================================================================\n",
       "                 coef    std err          t      P>|t|      [0.025      0.975]\n",
       "------------------------------------------------------------------------------\n",
       "Intercept     92.1005      2.445     37.674      0.000      87.301      96.900\n",
       "Python        22.9221      2.946      7.781      0.000      17.138      28.706\n",
       "spark         -1.6920      4.080     -0.415      0.679      -9.703       6.319\n",
       "aws           10.0329      3.263      3.075      0.002       3.626      16.440\n",
       "excel         -2.5458      2.579     -0.987      0.324      -7.609       2.518\n",
       "sql          -10.3709      3.072     -3.376      0.001     -16.402      -4.339\n",
       "sas           18.3125      4.680      3.913      0.000       9.124      27.501\n",
       "keras         -3.4863      8.356     -0.417      0.677     -19.892      12.919\n",
       "pytorch      -18.7216      7.586     -2.468      0.014     -33.614      -3.829\n",
       "scikit        12.2974      6.233      1.973      0.049       0.061      24.534\n",
       "tensor        15.2036      6.687      2.274      0.023       2.075      28.332\n",
       "hadoop         4.5706      4.210      1.086      0.278      -3.695      12.837\n",
       "tableau       -6.2376      3.823     -1.632      0.103     -13.742       1.267\n",
       "bi            -4.9640      5.463     -0.909      0.364     -15.690       5.762\n",
       "flink          4.3340     11.487      0.377      0.706     -18.218      26.886\n",
       "mongo          7.3972      6.187      1.196      0.232      -4.750      19.545\n",
       "google_an    -28.2730      9.387     -3.012      0.003     -46.702      -9.844\n",
       "==============================================================================\n",
       "Omnibus:                       73.332   Durbin-Watson:                   2.034\n",
       "Prob(Omnibus):                  0.000   Jarque-Bera (JB):               95.131\n",
       "Skew:                           0.792   Prob(JB):                     2.20e-21\n",
       "Kurtosis:                       3.753   Cond. No.                         14.2\n",
       "==============================================================================\n",
       "\n",
       "Notes:\n",
       "[1] Standard Errors assume that the covariance matrix of the errors is correctly specified.\n",
       "\"\"\""
      ]
     },
     "execution_count": 39,
     "metadata": {},
     "output_type": "execute_result"
    }
   ],
   "source": [
    "lm1.summary()"
   ]
  },
  {
   "cell_type": "code",
   "execution_count": 40,
   "metadata": {},
   "outputs": [],
   "source": [
    "# Only keep the coefficients which has p-value below 0.05:\n",
    "# python, aws, sql, sas, google_an, pytorch, scikit and tensor\n",
    "df = df.drop(['spark', 'excel', 'keras', 'hadoop', 'tableau', 'bi', 'flink', 'mongo'], axis = 1)"
   ]
  },
  {
   "cell_type": "markdown",
   "metadata": {},
   "source": [
    "## Part 2: Feature Engineering"
   ]
  },
  {
   "cell_type": "code",
   "execution_count": 41,
   "metadata": {},
   "outputs": [],
   "source": [
    "#Remove salary, maybe some of the coding languages?\n",
    "#Maybe drop some non-often occuring categoricals as well? change them into 'other' category"
   ]
  },
  {
   "cell_type": "markdown",
   "metadata": {},
   "source": [
    "### Reconfigure categorical variables"
   ]
  },
  {
   "cell_type": "code",
   "execution_count": 42,
   "metadata": {},
   "outputs": [
    {
     "data": {
      "text/plain": [
       "Company - Private                 410\n",
       "Company - Public                  193\n",
       "Nonprofit Organization             55\n",
       "Subsidiary or Business Segment     34\n",
       "Government                         15\n",
       "Hospital                           15\n",
       "College / University               13\n",
       "Other Organization                  5\n",
       "School / School District            2\n",
       "Name: Type of ownership, dtype: int64"
      ]
     },
     "execution_count": 42,
     "metadata": {},
     "output_type": "execute_result"
    }
   ],
   "source": [
    "# Let's look at types of ownership\n",
    "df['Type of ownership'].value_counts()"
   ]
  },
  {
   "cell_type": "code",
   "execution_count": 43,
   "metadata": {},
   "outputs": [],
   "source": [
    "# Make companies into one category\n",
    "df['Type of ownership'] = df['Type of ownership'].replace(['Company - Private', 'Company - Public',\n",
    "                                'Subsidiary or Business Segment'], 'Company')"
   ]
  },
  {
   "cell_type": "code",
   "execution_count": 44,
   "metadata": {},
   "outputs": [],
   "source": [
    "#Lump public sector, non-profit, education, hospitals and other into one category\n",
    "df['Type of ownership'] = df['Type of ownership'].replace(['Government', 'Nonprofit Organization',\n",
    "                                'Hospital', 'College / University',\n",
    "                                'School / School District', 'Other Organization'], \n",
    "                                'Government, Nonprofit, Education, Hospital or Other')"
   ]
  },
  {
   "cell_type": "code",
   "execution_count": 45,
   "metadata": {},
   "outputs": [],
   "source": [
    "#Rename column for clarity\n",
    "df = df.rename(columns={'Type of ownership': 'Type of Employer'})"
   ]
  },
  {
   "cell_type": "code",
   "execution_count": 46,
   "metadata": {},
   "outputs": [
    {
     "data": {
      "text/plain": [
       "Company                                                637\n",
       "Government, Nonprofit, Education, Hospital or Other    105\n",
       "Name: Type of Employer, dtype: int64"
      ]
     },
     "execution_count": 46,
     "metadata": {},
     "output_type": "execute_result"
    }
   ],
   "source": [
    "df['Type of Employer'].value_counts()"
   ]
  },
  {
   "cell_type": "code",
   "execution_count": 47,
   "metadata": {},
   "outputs": [
    {
     "data": {
      "text/plain": [
       "data scientist                    323\n",
       "other scientist                   143\n",
       "data engineer                     119\n",
       "analyst                           101\n",
       "machine learning engineer          22\n",
       "Data scientist project manager     16\n",
       "data analitics                      8\n",
       "data modeler                        5\n",
       "director                            5\n",
       "Name: job_title_sim, dtype: int64"
      ]
     },
     "execution_count": 47,
     "metadata": {},
     "output_type": "execute_result"
    }
   ],
   "source": [
    "# Let's look at job titles\n",
    "df['job_title_sim'].value_counts()"
   ]
  },
  {
   "cell_type": "code",
   "execution_count": 48,
   "metadata": {},
   "outputs": [],
   "source": [
    "#Lump together similar occupational titles to create fewer categories with more data\n",
    "df['job_title_sim'] = df['job_title_sim'].replace(['director', 'Data scientist project manager',\n",
    "                            'data modeler'],\n",
    "                           'data science manager')\n",
    "df['job_title_sim'] = df['job_title_sim'].replace('data analitics',\n",
    "                           'data scientist')"
   ]
  },
  {
   "cell_type": "code",
   "execution_count": 49,
   "metadata": {},
   "outputs": [
    {
     "data": {
      "text/plain": [
       "data scientist               331\n",
       "other scientist              143\n",
       "data engineer                119\n",
       "analyst                      101\n",
       "data science manager          26\n",
       "machine learning engineer     22\n",
       "Name: job_title_sim, dtype: int64"
      ]
     },
     "execution_count": 49,
     "metadata": {},
     "output_type": "execute_result"
    }
   ],
   "source": [
    "df['job_title_sim'].value_counts()"
   ]
  },
  {
   "cell_type": "code",
   "execution_count": 50,
   "metadata": {},
   "outputs": [
    {
     "data": {
      "text/plain": [
       "Information Technology                190\n",
       "Biotech & Pharmaceuticals             112\n",
       "Business Services                      97\n",
       "Insurance                              69\n",
       "Health Care                            49\n",
       "Finance                                42\n",
       "Manufacturing                          34\n",
       "Aerospace & Defense                    25\n",
       "Education                              23\n",
       "Retail                                 15\n",
       "Oil, Gas, Energy & Utilities           14\n",
       "Government                             11\n",
       "Non-Profit                              9\n",
       "Real Estate                             8\n",
       "Transportation & Logistics              8\n",
       "Travel & Tourism                        8\n",
       "Telecommunications                      6\n",
       "Media                                   6\n",
       "Arts, Entertainment & Recreation        4\n",
       "Consumer Services                       4\n",
       "Mining & Metals                         3\n",
       "Construction, Repair & Maintenance      3\n",
       "Agriculture & Forestry                  1\n",
       "Accounting & Legal                      1\n",
       "Name: Sector, dtype: int64"
      ]
     },
     "execution_count": 50,
     "metadata": {},
     "output_type": "execute_result"
    }
   ],
   "source": [
    "# Let's look at sectors\n",
    "df['Sector'].value_counts()"
   ]
  },
  {
   "cell_type": "code",
   "execution_count": 51,
   "metadata": {},
   "outputs": [],
   "source": [
    "#Lump public sector, education, and non-profit into one category\n",
    "df['Sector'] = df['Sector'].replace(['Government', 'Non-Profit','Education'],\n",
    "                    'Government, Non-Profit or Education')"
   ]
  },
  {
   "cell_type": "code",
   "execution_count": 52,
   "metadata": {},
   "outputs": [],
   "source": [
    "#Create a new category 'other' and put rare sectors (<10 data points) into that category\n",
    "rare_sectors = list(df['Sector'].value_counts()[df['Sector'].value_counts() < 10].index)\n",
    "df['Sector'] = df['Sector'].replace(rare_sectors,\n",
    "                    'Other')"
   ]
  },
  {
   "cell_type": "code",
   "execution_count": 53,
   "metadata": {},
   "outputs": [
    {
     "data": {
      "text/plain": [
       "Information Technology                 190\n",
       "Biotech & Pharmaceuticals              112\n",
       "Business Services                       97\n",
       "Insurance                               69\n",
       "Other                                   52\n",
       "Health Care                             49\n",
       "Government, Non-Profit or Education     43\n",
       "Finance                                 42\n",
       "Manufacturing                           34\n",
       "Aerospace & Defense                     25\n",
       "Retail                                  15\n",
       "Oil, Gas, Energy & Utilities            14\n",
       "Name: Sector, dtype: int64"
      ]
     },
     "execution_count": 53,
     "metadata": {},
     "output_type": "execute_result"
    }
   ],
   "source": [
    "df['Sector'].value_counts()"
   ]
  },
  {
   "cell_type": "code",
   "execution_count": 54,
   "metadata": {},
   "outputs": [
    {
     "data": {
      "text/plain": [
       "CA    152\n",
       "MA    103\n",
       "NY     72\n",
       "VA     41\n",
       "IL     40\n",
       "MD     35\n",
       "PA     33\n",
       "TX     28\n",
       "NC     21\n",
       "WA     21\n",
       "NJ     17\n",
       "FL     16\n",
       "OH     14\n",
       "TN     13\n",
       "DC     11\n",
       "CO     11\n",
       "WI     10\n",
       "UT     10\n",
       "IN     10\n",
       "AZ      9\n",
       "MO      9\n",
       "AL      8\n",
       "GA      6\n",
       "DE      6\n",
       "KY      6\n",
       "MI      6\n",
       "CT      5\n",
       "IA      5\n",
       "LA      4\n",
       "OR      4\n",
       "NE      4\n",
       "NM      3\n",
       "KS      3\n",
       "ID      2\n",
       "MN      2\n",
       "RI      1\n",
       "SC      1\n",
       "Name: Job Location, dtype: int64"
      ]
     },
     "execution_count": 54,
     "metadata": {},
     "output_type": "execute_result"
    }
   ],
   "source": [
    "# Let's look at Job Location\n",
    "df['Job Location'].value_counts()"
   ]
  },
  {
   "cell_type": "code",
   "execution_count": 55,
   "metadata": {},
   "outputs": [],
   "source": [
    "#Let's do the same with uncommon states as we did with sectors\n",
    "rare_states = list(df['Job Location'].value_counts()[df['Job Location'].value_counts() < 10].index)\n",
    "df['Job Location'] = df['Job Location'].replace(rare_states,\n",
    "                    'Other')"
   ]
  },
  {
   "cell_type": "code",
   "execution_count": 56,
   "metadata": {},
   "outputs": [
    {
     "data": {
      "text/plain": [
       "CA       152\n",
       "MA       103\n",
       "Other     84\n",
       "NY        72\n",
       "VA        41\n",
       "IL        40\n",
       "MD        35\n",
       "PA        33\n",
       "TX        28\n",
       "WA        21\n",
       "NC        21\n",
       "NJ        17\n",
       "FL        16\n",
       "OH        14\n",
       "TN        13\n",
       "DC        11\n",
       "CO        11\n",
       "IN        10\n",
       "WI        10\n",
       "UT        10\n",
       "Name: Job Location, dtype: int64"
      ]
     },
     "execution_count": 56,
     "metadata": {},
     "output_type": "execute_result"
    }
   ],
   "source": [
    "df['Job Location'].value_counts()"
   ]
  },
  {
   "cell_type": "code",
   "execution_count": 57,
   "metadata": {},
   "outputs": [
    {
     "data": {
      "text/plain": [
       "Biotech & Pharmaceuticals                   122\n",
       "Insurance Carriers                           63\n",
       "Computer Hardware & Software                 59\n",
       "IT Services                                  50\n",
       "Health Care Services & Hospitals             49\n",
       "Enterprise Software & Network Solutions      42\n",
       "Internet                                     29\n",
       "Consulting                                   29\n",
       "Aerospace & Defense                          25\n",
       "Advertising & Marketing                      25\n",
       "Consumer Products Manufacturing              20\n",
       "Research & Development                       19\n",
       "Colleges & Universities                      16\n",
       "Energy                                       14\n",
       "Banks & Credit Unions                        12\n",
       "Federal Agencies                             11\n",
       "Staffing & Outsourcing                       10\n",
       "Travel Agencies                               8\n",
       "Lending                                       8\n",
       "Food & Beverage Manufacturing                 8\n",
       "Financial Analytics & Research                8\n",
       "Real Estate                                   8\n",
       "Security Services                             7\n",
       "Insurance Agencies & Brokerages               6\n",
       "Religious Organizations                       6\n",
       "Department, Clothing, & Shoe Stores           6\n",
       "Investment Banking & Asset Management         5\n",
       "Architectural & Engineering Services          4\n",
       "K-12 Education                                4\n",
       "Gas Stations                                  4\n",
       "Gambling                                      4\n",
       "Industrial Manufacturing                      4\n",
       "Telecommunications Services                   4\n",
       "Logistics & Supply Chain                      4\n",
       "Financial Transaction Processing              4\n",
       "Wholesale                                     3\n",
       "Stock Exchanges                               3\n",
       "Social Assistance                             3\n",
       "Construction                                  3\n",
       "Transportation Management                     3\n",
       "Video Games                                   3\n",
       "Education Training Services                   3\n",
       "Consumer Product Rental                       3\n",
       "Telecommunications Manufacturing              2\n",
       "Sporting Goods Stores                         2\n",
       "TV Broadcast & Cable Networks                 2\n",
       "Brokerage Services                            2\n",
       "Metals Brokers                                2\n",
       "Accounting                                    1\n",
       "Health Care Products Manufacturing            1\n",
       "Health, Beauty, & Fitness                     1\n",
       "Farm Support Services                         1\n",
       "Auctions & Galleries                          1\n",
       "Trucking                                      1\n",
       "Mining                                        1\n",
       "Other Retail Stores                           1\n",
       "Motion Picture Production & Distribution      1\n",
       "Transportation Equipment Manufacturing        1\n",
       "Beauty & Personal Accessories Stores          1\n",
       "Name: Industry, dtype: int64"
      ]
     },
     "execution_count": 57,
     "metadata": {},
     "output_type": "execute_result"
    }
   ],
   "source": [
    "# Let's look at industries\n",
    "df['Industry'].value_counts()"
   ]
  },
  {
   "cell_type": "code",
   "execution_count": 58,
   "metadata": {},
   "outputs": [],
   "source": [
    "#Since there are many rare industries, I'll try to lump some of the industries together before creating the 'other' industry\n",
    "df['Industry'] = df['Industry'].replace(['Transportation Equipment Manufacturing', 'Health Care Products Manufacturing',\n",
    "                                         'Industrial Manufacturing', 'Telecommunications Manufacturing', \n",
    "                                         'Food & Beverage Manufacturing', 'Consumer Products Manufacturing'],\n",
    "                    'Manufacturing')"
   ]
  },
  {
   "cell_type": "code",
   "execution_count": 59,
   "metadata": {},
   "outputs": [],
   "source": [
    "df['Industry'] = df['Industry'].replace(['Banks & Credit Unions', 'Lending', 'Accounting', 'Brokerage Services',\n",
    "                                         'Financial Analytics & Research', 'Investment Banking & Asset Management', \n",
    "                                         'Financial Transaction Processing', 'Stock Exchanges', 'Metals Brokers',\n",
    "                                        'Real Estate'],\n",
    "                    'Finance, Banking, Trading & Real Estate')"
   ]
  },
  {
   "cell_type": "code",
   "execution_count": 60,
   "metadata": {},
   "outputs": [],
   "source": [
    "df['Industry'] = df['Industry'].replace(['Insurance Carriers','Insurance Agencies & Brokerages'],\n",
    "                                        'Insurance')"
   ]
  },
  {
   "cell_type": "code",
   "execution_count": 61,
   "metadata": {},
   "outputs": [],
   "source": [
    "df['Industry'] = df['Industry'].replace(['Department, Clothing, & Shoe Stores', 'Sporting Goods Stores',\n",
    "                                         'Other Retail Stores', 'Beauty & Personal Accessories Stores'],\n",
    "                    'Stores')"
   ]
  },
  {
   "cell_type": "code",
   "execution_count": 62,
   "metadata": {},
   "outputs": [],
   "source": [
    "df['Industry'] = df['Industry'].replace(['Colleges & Universities', 'K-12 Education',\n",
    "                                         'Education Training Services'],\n",
    "                    'Education')"
   ]
  },
  {
   "cell_type": "code",
   "execution_count": 63,
   "metadata": {},
   "outputs": [],
   "source": [
    "df['Industry'] = df['Industry'].replace(['Internet', 'Telecommunications Services'],\n",
    "                    'Internet & Telecommunication')"
   ]
  },
  {
   "cell_type": "code",
   "execution_count": 64,
   "metadata": {},
   "outputs": [],
   "source": [
    "#Let's do the same with rare industries as we did with sectors and states\n",
    "rare_industries = list(df['Industry'].value_counts()[df['Industry'].value_counts() < 10].index)\n",
    "df['Industry'] = df['Industry'].replace(rare_industries,\n",
    "                    'Other')"
   ]
  },
  {
   "cell_type": "code",
   "execution_count": 65,
   "metadata": {},
   "outputs": [
    {
     "data": {
      "text/plain": [
       "Biotech & Pharmaceuticals                  122\n",
       "Insurance                                   69\n",
       "Other                                       63\n",
       "Computer Hardware & Software                59\n",
       "Finance, Banking, Trading & Real Estate     53\n",
       "IT Services                                 50\n",
       "Health Care Services & Hospitals            49\n",
       "Enterprise Software & Network Solutions     42\n",
       "Manufacturing                               36\n",
       "Internet & Telecommunication                33\n",
       "Consulting                                  29\n",
       "Aerospace & Defense                         25\n",
       "Advertising & Marketing                     25\n",
       "Education                                   23\n",
       "Research & Development                      19\n",
       "Energy                                      14\n",
       "Federal Agencies                            11\n",
       "Stores                                      10\n",
       "Staffing & Outsourcing                      10\n",
       "Name: Industry, dtype: int64"
      ]
     },
     "execution_count": 65,
     "metadata": {},
     "output_type": "execute_result"
    }
   ],
   "source": [
    "df['Industry'].value_counts()"
   ]
  },
  {
   "cell_type": "markdown",
   "metadata": {},
   "source": [
    "### Create two new dummy variables: Seniority and Juniority by title"
   ]
  },
  {
   "cell_type": "code",
   "execution_count": 66,
   "metadata": {},
   "outputs": [],
   "source": [
    "df['Senior_by_title'] = df['seniority_by_title'].apply(lambda x: 1 if x == 'sr' else 0)"
   ]
  },
  {
   "cell_type": "code",
   "execution_count": 67,
   "metadata": {},
   "outputs": [],
   "source": [
    "df['Junior_by_title'] = df['seniority_by_title'].apply(lambda x: 1 if x == 'jr' else 0)"
   ]
  },
  {
   "cell_type": "code",
   "execution_count": 68,
   "metadata": {},
   "outputs": [
    {
     "data": {
      "text/html": [
       "<div>\n",
       "<style scoped>\n",
       "    .dataframe tbody tr th:only-of-type {\n",
       "        vertical-align: middle;\n",
       "    }\n",
       "\n",
       "    .dataframe tbody tr th {\n",
       "        vertical-align: top;\n",
       "    }\n",
       "\n",
       "    .dataframe thead th {\n",
       "        text-align: right;\n",
       "    }\n",
       "</style>\n",
       "<table border=\"1\" class=\"dataframe\">\n",
       "  <thead>\n",
       "    <tr style=\"text-align: right;\">\n",
       "      <th></th>\n",
       "      <th>Senior_by_title</th>\n",
       "      <th>Junior_by_title</th>\n",
       "      <th>seniority_by_title</th>\n",
       "    </tr>\n",
       "  </thead>\n",
       "  <tbody>\n",
       "    <tr>\n",
       "      <th>0</th>\n",
       "      <td>0</td>\n",
       "      <td>0</td>\n",
       "      <td>na</td>\n",
       "    </tr>\n",
       "    <tr>\n",
       "      <th>1</th>\n",
       "      <td>0</td>\n",
       "      <td>0</td>\n",
       "      <td>na</td>\n",
       "    </tr>\n",
       "    <tr>\n",
       "      <th>2</th>\n",
       "      <td>0</td>\n",
       "      <td>0</td>\n",
       "      <td>na</td>\n",
       "    </tr>\n",
       "    <tr>\n",
       "      <th>3</th>\n",
       "      <td>0</td>\n",
       "      <td>0</td>\n",
       "      <td>na</td>\n",
       "    </tr>\n",
       "    <tr>\n",
       "      <th>4</th>\n",
       "      <td>0</td>\n",
       "      <td>0</td>\n",
       "      <td>na</td>\n",
       "    </tr>\n",
       "    <tr>\n",
       "      <th>...</th>\n",
       "      <td>...</td>\n",
       "      <td>...</td>\n",
       "      <td>...</td>\n",
       "    </tr>\n",
       "    <tr>\n",
       "      <th>737</th>\n",
       "      <td>1</td>\n",
       "      <td>0</td>\n",
       "      <td>sr</td>\n",
       "    </tr>\n",
       "    <tr>\n",
       "      <th>738</th>\n",
       "      <td>1</td>\n",
       "      <td>0</td>\n",
       "      <td>sr</td>\n",
       "    </tr>\n",
       "    <tr>\n",
       "      <th>739</th>\n",
       "      <td>0</td>\n",
       "      <td>0</td>\n",
       "      <td>na</td>\n",
       "    </tr>\n",
       "    <tr>\n",
       "      <th>740</th>\n",
       "      <td>0</td>\n",
       "      <td>0</td>\n",
       "      <td>na</td>\n",
       "    </tr>\n",
       "    <tr>\n",
       "      <th>741</th>\n",
       "      <td>0</td>\n",
       "      <td>0</td>\n",
       "      <td>na</td>\n",
       "    </tr>\n",
       "  </tbody>\n",
       "</table>\n",
       "<p>742 rows × 3 columns</p>\n",
       "</div>"
      ],
      "text/plain": [
       "     Senior_by_title  Junior_by_title seniority_by_title\n",
       "0                  0                0                 na\n",
       "1                  0                0                 na\n",
       "2                  0                0                 na\n",
       "3                  0                0                 na\n",
       "4                  0                0                 na\n",
       "..               ...              ...                ...\n",
       "737                1                0                 sr\n",
       "738                1                0                 sr\n",
       "739                0                0                 na\n",
       "740                0                0                 na\n",
       "741                0                0                 na\n",
       "\n",
       "[742 rows x 3 columns]"
      ]
     },
     "execution_count": 68,
     "metadata": {},
     "output_type": "execute_result"
    }
   ],
   "source": [
    "df[['Senior_by_title', 'Junior_by_title', 'seniority_by_title']]"
   ]
  },
  {
   "cell_type": "code",
   "execution_count": 69,
   "metadata": {},
   "outputs": [],
   "source": [
    "df.drop('seniority_by_title', axis=1, inplace=True)"
   ]
  },
  {
   "cell_type": "markdown",
   "metadata": {},
   "source": [
    "### Salary variables"
   ]
  },
  {
   "cell_type": "code",
   "execution_count": 70,
   "metadata": {},
   "outputs": [],
   "source": [
    "# Having lower and upper salary is almost cheating when calculating average salary, so we'll drop those\n",
    "# What we'll do instead is create a new variable 'Salary Difference' which is the difference between higher and...\n",
    "# lower salary at the company. Might be a bit too helpful, but I think it's fair to keep this variable instead."
   ]
  },
  {
   "cell_type": "code",
   "execution_count": 71,
   "metadata": {},
   "outputs": [],
   "source": [
    "df['Salary Difference'] = df['Upper Salary'] - df['Lower Salary']"
   ]
  },
  {
   "cell_type": "code",
   "execution_count": 72,
   "metadata": {},
   "outputs": [],
   "source": [
    "df.drop(['Upper Salary', 'Lower Salary'], axis = 1, inplace=True)"
   ]
  },
  {
   "cell_type": "code",
   "execution_count": 73,
   "metadata": {},
   "outputs": [
    {
     "data": {
      "text/plain": [
       "Text(0.5, 6.79999999999999, 'Salary Difference ($K)')"
      ]
     },
     "execution_count": 73,
     "metadata": {},
     "output_type": "execute_result"
    },
    {
     "data": {
      "image/png": "[encoded data removed]",
      "text/plain": [
       "<Figure size 360x360 with 1 Axes>"
      ]
     },
     "metadata": {
      "needs_background": "light"
     },
     "output_type": "display_data"
    }
   ],
   "source": [
    "sns.displot(df['Salary Difference'])\n",
    "plt.title(\"Salary Difference Frequency\")\n",
    "plt.xlabel(\"Salary Difference ($K)\")"
   ]
  },
  {
   "cell_type": "markdown",
   "metadata": {},
   "source": [
    "### One-hot encoding and numerical encoding for categorical variables"
   ]
  },
  {
   "cell_type": "code",
   "execution_count": 74,
   "metadata": {},
   "outputs": [
    {
     "data": {
      "text/plain": [
       "Index(['Rating', 'Size', 'Type of Employer', 'Industry', 'Sector', 'Hourly',\n",
       "       'Employer provided', 'Avg Salary(K)', 'Job Location', 'Age', 'Python',\n",
       "       'aws', 'sql', 'sas', 'pytorch', 'scikit', 'tensor', 'google_an',\n",
       "       'job_title_sim', 'Senior_by_title', 'Junior_by_title',\n",
       "       'Salary Difference'],\n",
       "      dtype='object')"
      ]
     },
     "execution_count": 74,
     "metadata": {},
     "output_type": "execute_result"
    }
   ],
   "source": [
    "#Encoding needed for company size, employer type, industry, sector, job location and job_title\n",
    "df.columns"
   ]
  },
  {
   "cell_type": "code",
   "execution_count": 75,
   "metadata": {},
   "outputs": [],
   "source": [
    "from sklearn.preprocessing import LabelEncoder"
   ]
  },
  {
   "cell_type": "code",
   "execution_count": 76,
   "metadata": {},
   "outputs": [],
   "source": [
    "#One-hot encoding or numerical encoding based on number of categories within variable\n",
    "def encode_columns(df, columns):\n",
    "    for col in columns:\n",
    "        le = LabelEncoder()\n",
    "        le.fit(df[col].astype(str))\n",
    "        if len(le.classes_) < 7:\n",
    "            df = pd.get_dummies(df, columns = [col])\n",
    "        else:\n",
    "            check_col = df.copy()[col]\n",
    "            df[col] = le.transform(df[col].astype(str))\n",
    "    return df"
   ]
  },
  {
   "cell_type": "code",
   "execution_count": 77,
   "metadata": {},
   "outputs": [],
   "source": [
    "df = encode_columns(df, ['Size', 'Type of Employer', 'Industry', 'Sector','Job Location', 'job_title_sim'])"
   ]
  },
  {
   "cell_type": "code",
   "execution_count": 78,
   "metadata": {},
   "outputs": [
    {
     "data": {
      "text/plain": [
       "Index(['Rating', 'Size', 'Industry', 'Sector', 'Hourly', 'Employer provided',\n",
       "       'Avg Salary(K)', 'Job Location', 'Age', 'Python', 'aws', 'sql', 'sas',\n",
       "       'pytorch', 'scikit', 'tensor', 'google_an', 'Senior_by_title',\n",
       "       'Junior_by_title', 'Salary Difference', 'Type of Employer_Company',\n",
       "       'Type of Employer_Government, Nonprofit, Education, Hospital or Other',\n",
       "       'job_title_sim_analyst', 'job_title_sim_data engineer',\n",
       "       'job_title_sim_data science manager', 'job_title_sim_data scientist',\n",
       "       'job_title_sim_machine learning engineer',\n",
       "       'job_title_sim_other scientist'],\n",
       "      dtype='object')"
      ]
     },
     "execution_count": 78,
     "metadata": {},
     "output_type": "execute_result"
    }
   ],
   "source": [
    "df.columns"
   ]
  },
  {
   "cell_type": "code",
   "execution_count": 79,
   "metadata": {},
   "outputs": [],
   "source": [
    "#Avoid dummy trap by removing one column for each variable that was one-hot encoded"
   ]
  },
  {
   "cell_type": "code",
   "execution_count": 80,
   "metadata": {},
   "outputs": [],
   "source": [
    "df = df.drop(['Type of Employer_Government, Nonprofit, Education, Hospital or Other',\n",
    "             'job_title_sim_machine learning engineer'], axis = 1)"
   ]
  },
  {
   "cell_type": "markdown",
   "metadata": {},
   "source": [
    "## Part 4: Machine Learning Prediction of Salaries"
   ]
  },
  {
   "cell_type": "code",
   "execution_count": 81,
   "metadata": {},
   "outputs": [],
   "source": [
    "from sklearn.model_selection import train_test_split\n",
    "import numpy as np\n",
    "from sklearn.metrics import mean_squared_error\n",
    "from sklearn.metrics import mean_absolute_error"
   ]
  },
  {
   "cell_type": "code",
   "execution_count": 82,
   "metadata": {},
   "outputs": [],
   "source": [
    "# Split data into dependent and independet variables, then split further into training and test data sets\n",
    "X = df.drop('Avg Salary(K)', axis=1)\n",
    "y = df['Avg Salary(K)']\n",
    "X_train, X_test, y_train, y_test = train_test_split(X, \n",
    "                                                    y, test_size=0.2, \n",
    "                                                    random_state=123)"
   ]
  },
  {
   "cell_type": "markdown",
   "metadata": {},
   "source": [
    "### XGBoosted Decision Tree Regression Model"
   ]
  },
  {
   "cell_type": "code",
   "execution_count": 83,
   "metadata": {},
   "outputs": [],
   "source": [
    "import xgboost as xgb"
   ]
  },
  {
   "cell_type": "code",
   "execution_count": 84,
   "metadata": {},
   "outputs": [],
   "source": [
    "# Create data matrix for xgboost to use\n",
    "df_dmatrix = xgb.DMatrix(data= X, label=y)"
   ]
  },
  {
   "cell_type": "code",
   "execution_count": 85,
   "metadata": {},
   "outputs": [],
   "source": [
    "xg_reg = xgb.XGBRegressor(objective ='reg:squarederror', colsample_bytree = 0.3, learning_rate = 0.1,\n",
    "                max_depth = 5, alpha = 10, n_estimators = 10)"
   ]
  },
  {
   "cell_type": "code",
   "execution_count": 86,
   "metadata": {},
   "outputs": [
    {
     "data": {
      "text/plain": [
       "XGBRegressor(alpha=10, base_score=0.5, booster='gbtree', colsample_bylevel=1,\n",
       "             colsample_bynode=1, colsample_bytree=0.3, enable_categorical=False,\n",
       "             gamma=0, gpu_id=-1, importance_type=None,\n",
       "             interaction_constraints='', learning_rate=0.1, max_delta_step=0,\n",
       "             max_depth=5, min_child_weight=1, missing=nan,\n",
       "             monotone_constraints='()', n_estimators=10, n_jobs=4,\n",
       "             num_parallel_tree=1, predictor='auto', random_state=0,\n",
       "             reg_alpha=10, reg_lambda=1, scale_pos_weight=1, subsample=1,\n",
       "             tree_method='exact', validate_parameters=1, verbosity=None)"
      ]
     },
     "execution_count": 86,
     "metadata": {},
     "output_type": "execute_result"
    }
   ],
   "source": [
    "# Fit xgboost model\n",
    "xg_reg.fit(X_train,y_train)"
   ]
  },
  {
   "cell_type": "code",
   "execution_count": 87,
   "metadata": {},
   "outputs": [],
   "source": [
    "# Predictions\n",
    "xg_pred = xg_reg.predict(X_test)"
   ]
  },
  {
   "cell_type": "code",
   "execution_count": 88,
   "metadata": {},
   "outputs": [],
   "source": [
    "mse = mean_squared_error(y_test, xg_pred)\n",
    "rmse = np.sqrt(mean_squared_error(y_test, xg_pred))\n",
    "mae = mean_absolute_error(y_test, xg_pred)"
   ]
  },
  {
   "cell_type": "code",
   "execution_count": 89,
   "metadata": {},
   "outputs": [
    {
     "name": "stdout",
     "output_type": "stream",
     "text": [
      "MSE: 2280.859669\n",
      "RMSE: 47.758347\n",
      "MAE: 39.326127\n"
     ]
    }
   ],
   "source": [
    "print(\"MSE: %f\" % (mse))\n",
    "print(\"RMSE: %f\" % (rmse))\n",
    "print(\"MAE: %f\" % (mae))"
   ]
  },
  {
   "cell_type": "markdown",
   "metadata": {},
   "source": [
    "#### Tuning Hyperparameters with GridSearch"
   ]
  },
  {
   "cell_type": "code",
   "execution_count": 90,
   "metadata": {},
   "outputs": [],
   "source": [
    "from sklearn.model_selection import GridSearchCV"
   ]
  },
  {
   "cell_type": "code",
   "execution_count": 91,
   "metadata": {},
   "outputs": [],
   "source": [
    "#Defining grid search parameters\n",
    "param_grid = {\n",
    "    \"colsample_bytree\":[x / 100.0 for x in range(10, 100, 10)],\n",
    "    \"learning_rate\":[x / 100.0 for x in range(5, 30, 5)],\n",
    "    \"max_depth\":range(1,10),\n",
    "    \"alpha\":range(5,15)\n",
    "}"
   ]
  },
  {
   "cell_type": "code",
   "execution_count": 92,
   "metadata": {},
   "outputs": [],
   "source": [
    "gridXG = GridSearchCV(xg_reg, param_grid=param_grid,cv=5,verbose=0,n_jobs=-1)"
   ]
  },
  {
   "cell_type": "code",
   "execution_count": 93,
   "metadata": {},
   "outputs": [
    {
     "data": {
      "text/plain": [
       "GridSearchCV(cv=5,\n",
       "             estimator=XGBRegressor(alpha=10, base_score=0.5, booster='gbtree',\n",
       "                                    colsample_bylevel=1, colsample_bynode=1,\n",
       "                                    colsample_bytree=0.3,\n",
       "                                    enable_categorical=False, gamma=0,\n",
       "                                    gpu_id=-1, importance_type=None,\n",
       "                                    interaction_constraints='',\n",
       "                                    learning_rate=0.1, max_delta_step=0,\n",
       "                                    max_depth=5, min_child_weight=1,\n",
       "                                    missing=nan, monotone_constraints='()',\n",
       "                                    n_estimators=10, n_jobs=4,\n",
       "                                    num_parallel_tree=1, predictor='auto',\n",
       "                                    random_state=0, reg_alpha=10, reg_lambda=1,\n",
       "                                    scale_pos_weight=1, subsample=1,\n",
       "                                    tree_method='exact', validate_parameters=1,\n",
       "                                    verbosity=None),\n",
       "             n_jobs=-1,\n",
       "             param_grid={'alpha': range(5, 15),\n",
       "                         'colsample_bytree': [0.1, 0.2, 0.3, 0.4, 0.5, 0.6, 0.7,\n",
       "                                              0.8, 0.9],\n",
       "                         'learning_rate': [0.05, 0.1, 0.15, 0.2, 0.25],\n",
       "                         'max_depth': range(1, 10)})"
      ]
     },
     "execution_count": 93,
     "metadata": {},
     "output_type": "execute_result"
    }
   ],
   "source": [
    "gridXG.fit(X_train,y_train)"
   ]
  },
  {
   "cell_type": "code",
   "execution_count": 94,
   "metadata": {},
   "outputs": [
    {
     "data": {
      "text/plain": [
       "{'alpha': 5, 'colsample_bytree': 0.8, 'learning_rate': 0.25, 'max_depth': 7}"
      ]
     },
     "execution_count": 94,
     "metadata": {},
     "output_type": "execute_result"
    }
   ],
   "source": [
    "# Parameters of best model\n",
    "gridXG.best_params_"
   ]
  },
  {
   "cell_type": "code",
   "execution_count": 95,
   "metadata": {},
   "outputs": [],
   "source": [
    "#Predictions\n",
    "grid_pred = gridXG.predict(X_test)"
   ]
  },
  {
   "cell_type": "code",
   "execution_count": 96,
   "metadata": {},
   "outputs": [
    {
     "name": "stdout",
     "output_type": "stream",
     "text": [
      "MSE: 200.421784\n",
      "RMSE: 14.157040\n",
      "MAE: 10.161257\n"
     ]
    }
   ],
   "source": [
    "# Prediction scores\n",
    "grid_mse = mean_squared_error(y_test,grid_pred)\n",
    "grid_rmse = np.sqrt(mean_squared_error(y_test,grid_pred))\n",
    "grid_mae = mean_absolute_error(y_test,grid_pred)\n",
    "print(\"MSE: %f\" % (grid_mse))\n",
    "print(\"RMSE: %f\" % (grid_rmse))\n",
    "print(\"MAE: %f\" % (grid_mae))"
   ]
  },
  {
   "cell_type": "markdown",
   "metadata": {},
   "source": [
    "#### Visualize the XGBoosted Decision Tree and Feauture importance"
   ]
  },
  {
   "cell_type": "code",
   "execution_count": 97,
   "metadata": {},
   "outputs": [],
   "source": [
    "import matplotlib.pyplot as plt\n",
    "plt.style.use('ggplot')\n",
    "from xgboost import plot_tree\n",
    "import graphviz"
   ]
  },
  {
   "cell_type": "code",
   "execution_count": 98,
   "metadata": {},
   "outputs": [
    {
     "data": {
      "text/plain": [
       "<AxesSubplot:>"
      ]
     },
     "execution_count": 98,
     "metadata": {},
     "output_type": "execute_result"
    },
    {
     "data": {
      "image/png": "[encoded data removed]",
      "text/plain": [
       "<Figure size 1440x1080 with 1 Axes>"
      ]
     },
     "metadata": {},
     "output_type": "display_data"
    }
   ],
   "source": [
    "#XGBoosted Decision Tree visualized\n",
    "fig, ax = plt.subplots(figsize=(20, 15))\n",
    "xgb.plot_tree(gridXG.best_estimator_, ax=ax)"
   ]
  },
  {
   "cell_type": "code",
   "execution_count": 99,
   "metadata": {},
   "outputs": [
    {
     "data": {
      "image/png": "[encoded data removed]",
      "text/plain": [
       "<Figure size 432x288 with 1 Axes>"
      ]
     },
     "metadata": {},
     "output_type": "display_data"
    }
   ],
   "source": [
    "#Feature importance\n",
    "xgb.plot_importance(gridXG.best_estimator_)\n",
    "plt.rcParams['figure.figsize'] = [8, 8]"
   ]
  },
  {
   "cell_type": "markdown",
   "metadata": {},
   "source": [
    "### Linear Regression"
   ]
  },
  {
   "cell_type": "code",
   "execution_count": 100,
   "metadata": {},
   "outputs": [],
   "source": [
    "from sklearn.linear_model import LinearRegression"
   ]
  },
  {
   "cell_type": "code",
   "execution_count": 101,
   "metadata": {},
   "outputs": [],
   "source": [
    "from sklearn.metrics import mean_squared_error"
   ]
  },
  {
   "cell_type": "code",
   "execution_count": 102,
   "metadata": {},
   "outputs": [],
   "source": [
    "lr = LinearRegression()"
   ]
  },
  {
   "cell_type": "code",
   "execution_count": 103,
   "metadata": {},
   "outputs": [
    {
     "data": {
      "text/plain": [
       "LinearRegression()"
      ]
     },
     "execution_count": 103,
     "metadata": {},
     "output_type": "execute_result"
    }
   ],
   "source": [
    "#Fit linear model\n",
    "lr.fit(X_train,y_train)"
   ]
  },
  {
   "cell_type": "code",
   "execution_count": 104,
   "metadata": {},
   "outputs": [],
   "source": [
    "# Predictions\n",
    "lr_pred = lr.predict(X_test)"
   ]
  },
  {
   "cell_type": "code",
   "execution_count": 105,
   "metadata": {},
   "outputs": [
    {
     "name": "stdout",
     "output_type": "stream",
     "text": [
      "MSE: 312.098396\n",
      "RMSE: 17.666307\n",
      "MAE: 10.916376\n"
     ]
    }
   ],
   "source": [
    "# Prediction scores\n",
    "lr_mse = mean_squared_error(y_test,lr_pred)\n",
    "lr_rmse = np.sqrt(mean_squared_error(y_test,lr_pred))\n",
    "lr_mae = mean_absolute_error(y_test,lr_pred)\n",
    "print(\"MSE: %f\" % (lr_mse))\n",
    "print(\"RMSE: %f\" % (lr_rmse))\n",
    "print(\"MAE: %f\" % (lr_mae))"
   ]
  },
  {
   "cell_type": "markdown",
   "metadata": {},
   "source": [
    "### Lasso Regression"
   ]
  },
  {
   "cell_type": "code",
   "execution_count": 106,
   "metadata": {},
   "outputs": [],
   "source": [
    "from sklearn.linear_model import Lasso"
   ]
  },
  {
   "cell_type": "code",
   "execution_count": 107,
   "metadata": {},
   "outputs": [],
   "source": [
    "lasso = Lasso()"
   ]
  },
  {
   "cell_type": "code",
   "execution_count": 108,
   "metadata": {},
   "outputs": [
    {
     "data": {
      "text/plain": [
       "Lasso()"
      ]
     },
     "execution_count": 108,
     "metadata": {},
     "output_type": "execute_result"
    }
   ],
   "source": [
    "# Fit lasso regression model\n",
    "lasso.fit(X_train,y_train)"
   ]
  },
  {
   "cell_type": "code",
   "execution_count": 109,
   "metadata": {},
   "outputs": [],
   "source": [
    "# Predictions\n",
    "lasso_pred = lasso.predict(X_test)"
   ]
  },
  {
   "cell_type": "code",
   "execution_count": 110,
   "metadata": {},
   "outputs": [
    {
     "name": "stdout",
     "output_type": "stream",
     "text": [
      "MSE: 383.369436\n",
      "RMSE: 19.579822\n",
      "MAE: 12.481324\n"
     ]
    }
   ],
   "source": [
    "# Prediction scores\n",
    "lasso_mse = mean_squared_error(y_test,lasso_pred)\n",
    "lasso_rmse = np.sqrt(mean_squared_error(y_test,lasso_pred))\n",
    "lasso_mae = mean_absolute_error(y_test,lasso_pred)\n",
    "print(\"MSE: %f\" % (lasso_mse))\n",
    "print(\"RMSE: %f\" % (lasso_rmse))\n",
    "print(\"MAE: %f\" % (lasso_mae))"
   ]
  },
  {
   "cell_type": "markdown",
   "metadata": {},
   "source": [
    "### Performance Evalution"
   ]
  },
  {
   "cell_type": "markdown",
   "metadata": {},
   "source": [
    "The XGBoosted Decision Tree regression model with tuned hyperparameters performed best on all performance metrics, with a root mean squared error of approx. 14.142 (average salary per year in thousands of dollars). The multiple linear regression model came second with an RMSE of rougly 17.666 and the lasso regression model performed the worst with an RMSE of 19.580."
   ]
  },
  {
   "cell_type": "code",
   "execution_count": null,
   "metadata": {},
   "outputs": [],
   "source": []
  }
 ],
 "metadata": {
  "kernelspec": {
   "display_name": "Python 3 (ipykernel)",
   "language": "python",
   "name": "python3"
  },
  "language_info": {
   "codemirror_mode": {
    "name": "ipython",
    "version": 3
   },
   "file_extension": ".py",
   "mimetype": "text/x-python",
   "name": "python",
   "nbconvert_exporter": "python",
   "pygments_lexer": "ipython3",
   "version": "3.7.13"
  }
 },
 "nbformat": 4,
 "nbformat_minor": 4
}
